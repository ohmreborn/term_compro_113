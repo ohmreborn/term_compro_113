{
  "nbformat": 4,
  "nbformat_minor": 0,
  "metadata": {
    "colab": {
      "private_outputs": true,
      "provenance": [],
      "authorship_tag": "ABX9TyPfN67sfjhHz3LP3yHk40uU",
      "include_colab_link": true
    },
    "kernelspec": {
      "name": "python3",
      "display_name": "Python 3"
    },
    "language_info": {
      "name": "python"
    }
  },
  "cells": [
    {
      "cell_type": "markdown",
      "metadata": {
        "id": "view-in-github",
        "colab_type": "text"
      },
      "source": [
        "<a href=\"https://colab.research.google.com/github/ohmreborn/term_compro_113/blob/main/Answer.ipynb\" target=\"_parent\"><img src=\"https://colab.research.google.com/assets/colab-badge.svg\" alt=\"Open In Colab\"/></a>"
      ]
    },
    {
      "cell_type": "code",
      "source": [
        "import gdown\n",
        "\n",
        "url = \"https://drive.google.com/uc?export=download&id=17Xasteq4XZChyaETA1ZNMYE4Zco3djzt\"\n",
        "output = \"IMDB_movies_merged.json\"\n",
        "gdown.download(url, output)"
      ],
      "metadata": {
        "id": "ferQydPmhRob"
      },
      "execution_count": null,
      "outputs": []
    },
    {
      "cell_type": "code",
      "source": [
        "# q1 5 อันดับ rating หนังที่มี Harrison Ford แสดงโดยไม่มี 'Steven Spielberg' เป็นผู้กำกับ\n",
        "# q2 หนังที่ี Harrison Ford และ Tommy Lee Jones แสดงโดยไม่มี 'Steven Spielberg' และ George Lucas เป็นผู้กำกับ"
      ],
      "metadata": {
        "id": "GlaLo0EUiyKM"
      },
      "execution_count": null,
      "outputs": []
    },
    {
      "cell_type": "code",
      "source": [
        "\"\"\"\n",
        "ImdbId : id ของหนัง\n",
        "_id : id ของหนัง\n",
        "name : ชื่อหนัง\n",
        "poster_url : url ของหนัง\n",
        "year : ปีที่ฉาย\n",
        "certificate : rate หนังมั้ง\n",
        "runtime : ความยาวหนัง\n",
        "genre : ประเภท\n",
        "ratingValue : เรทติง\n",
        "summary_text : เรื่องย่อ\n",
        "ratingCount : จำนวนคนให้คะแนน\n",
        "director : ผู้กำกับ\n",
        "cast : นักแสดง\n",
        "\"\"\""
      ],
      "metadata": {
        "id": "ueFTW6tkj-ku"
      },
      "execution_count": null,
      "outputs": []
    },
    {
      "cell_type": "code",
      "source": [
        "#------------------------------------------- IMDB HEADER -------------------------------------------\n",
        "print(\"หวัดดีน้อง\")\n",
        "# Only 'import json' command is allowed!!!\n",
        "# Failing to follow this rule, you will get zero mark :_)\n",
        "import json\n",
        "print(\"adssadasd\")\n",
        "\n",
        "def read_json(filename):\n",
        "    with open(filename) as f:\n",
        "        data = f.read()\n",
        "        data = json.loads(data)\n",
        "    return data\n",
        "\n",
        "# specifying the zip file name\n",
        "\n",
        "data = read_json(output)\n",
        "#------------------------------------------- IMDB HEADER -------------------------------------------\n"
      ],
      "metadata": {
        "id": "-7QeIzX6l2SW"
      },
      "execution_count": null,
      "outputs": []
    },
    {
      "cell_type": "code",
      "source": [
        "def q1():\n",
        "    ls = []\n",
        "    for sample in data:\n",
        "        for cast in sample.get('cast',[]):\n",
        "            if cast['name'] == 'Harrison Ford' and sample['director']['name'] != 'Steven Spielberg':\n",
        "                x = [sample['director']['name'] ,sample['ratingValue']]\n",
        "                ls.append(x)\n",
        "\n",
        "    ls.sort(key=lambda x:x[1] ,reverse=True)\n",
        "    rating = []\n",
        "    ls_name = []\n",
        "\n",
        "    for i in range(len(ls)):\n",
        "        if ls[i][1] == ls[i-1][1]:\n",
        "            ls_name.append(ls[i][0])\n",
        "            rating.append(ls[i][1])\n",
        "        else:\n",
        "            if len(set(rating)) > 5:\n",
        "                break\n",
        "            ls_name.append(ls[i][0])\n",
        "            rating.append(ls[i][1])\n",
        "\n",
        "    ls_name.sort()\n",
        "    for name in ls_name:\n",
        "        print(name)\n",
        "\n",
        "def q2():\n",
        "    for sample in data:\n",
        "        ls_name = []\n",
        "        for cast in sample.get('cast',[]):\n",
        "            ls_name.append(cast['name'])\n",
        "        if  \"Harrison Ford\" in ls_name and \"Tommy Lee Jones\" in ls_name and sample['director']['name'] != \"George Lucas\" and sample['director']['name'] != \"Steven Spielberg\":\n",
        "            name = sample['name']\n",
        "            break\n",
        "\n",
        "    return name"
      ],
      "metadata": {
        "id": "VftR0pkniG5j"
      },
      "execution_count": null,
      "outputs": []
    },
    {
      "cell_type": "code",
      "source": [
        "q1()"
      ],
      "metadata": {
        "id": "1WOGsxnPjnSX"
      },
      "execution_count": null,
      "outputs": []
    },
    {
      "cell_type": "code",
      "source": [
        "q2()"
      ],
      "metadata": {
        "id": "tkHfOGUWuKVF"
      },
      "execution_count": null,
      "outputs": []
    },
    {
      "cell_type": "code",
      "source": [],
      "metadata": {
        "id": "356F_aoluLGb"
      },
      "execution_count": null,
      "outputs": []
    }
  ]
}
