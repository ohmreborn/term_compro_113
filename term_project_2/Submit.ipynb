{
  "nbformat": 4,
  "nbformat_minor": 0,
  "metadata": {
    "colab": {
      "private_outputs": true,
      "provenance": [],
      "authorship_tag": "ABX9TyPshqwxGUWl6SzwTdVzdNrh",
      "include_colab_link": true
    },
    "kernelspec": {
      "name": "python3",
      "display_name": "Python 3"
    },
    "language_info": {
      "name": "python"
    }
  },
  "cells": [
    {
      "cell_type": "markdown",
      "metadata": {
        "id": "view-in-github",
        "colab_type": "text"
      },
      "source": [
        "<a href=\"https://colab.research.google.com/github/ohmreborn/term_compro_113/blob/main/term_project_2/Submit.ipynb\" target=\"_parent\"><img src=\"https://colab.research.google.com/assets/colab-badge.svg\" alt=\"Open In Colab\"/></a>"
      ]
    },
    {
      "cell_type": "code",
      "source": [
        "import gdown\n",
        "\n",
        "url = \"https://drive.google.com/uc?export=download&id=17Xasteq4XZChyaETA1ZNMYE4Zco3djzt\"\n",
        "output = \"IMDB_movies_merged.json\"\n",
        "gdown.download(url, output)"
      ],
      "metadata": {
        "id": "ferQydPmhRob"
      },
      "execution_count": null,
      "outputs": []
    },
    {
      "cell_type": "code",
      "source": [
        "# q1 5 อันดับ rating หนังที่มี Harrison Ford แสดงโดยไม่มี 'Steven Spielberg' เป็นผู้กำกับ\n",
        "# q2 หนังที่ี Harrison Ford และ Tommy Lee Jones แสดงโดยไม่มี 'Steven Spielberg' และ George Lucas เป็นผู้กำกับ"
      ],
      "metadata": {
        "id": "GlaLo0EUiyKM"
      },
      "execution_count": null,
      "outputs": []
    },
    {
      "cell_type": "code",
      "source": [
        "\"\"\"\n",
        "ImdbId : id ของหนัง\n",
        "_id : id ของหนัง\n",
        "name : ชื่อหนัง\n",
        "poster_url : url ของหนัง\n",
        "year : ปีที่ฉาย\n",
        "certificate : rate หนังมั้ง\n",
        "runtime : ความยาวหนัง\n",
        "genre : ประเภท\n",
        "ratingValue : เรทติง\n",
        "summary_text : เรื่องย่อ\n",
        "ratingCount : จำนวนคนให้คะแนน\n",
        "director : ผู้กำกับ\n",
        "cast : นักแสดง\n",
        "\"\"\""
      ],
      "metadata": {
        "id": "ueFTW6tkj-ku"
      },
      "execution_count": null,
      "outputs": []
    },
    {
      "cell_type": "code",
      "source": [
        "#------------------------------------------- IMDB HEADER -------------------------------------------\n",
        "print(\"หวัดดีน้อง\")\n",
        "# Only 'import json' command is allowed!!!\n",
        "# Failing to follow this rule, you will get zero mark :_)\n",
        "import json\n",
        "print(\"adssadasd\")\n",
        "\n",
        "def read_json(filename):\n",
        "    with open(filename) as f:\n",
        "        data = f.read()\n",
        "        data = json.loads(data)\n",
        "    return data\n",
        "\n",
        "# specifying the zip file name\n",
        "\n",
        "data = read_json(output)\n",
        "#------------------------------------------- IMDB HEADER -------------------------------------------\n"
      ],
      "metadata": {
        "id": "-7QeIzX6l2SW"
      },
      "execution_count": null,
      "outputs": []
    },
    {
      "cell_type": "code",
      "source": [],
      "metadata": {
        "id": "356F_aoluLGb"
      },
      "execution_count": null,
      "outputs": []
    }
  ]
}